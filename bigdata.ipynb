{
 "cells": [
  {
   "cell_type": "code",
   "execution_count": 2,
   "metadata": {
    "collapsed": true
   },
   "outputs": [],
   "source": [
    "import tweepy\n",
    "import os\n",
    "import json\n",
    "import sys\n",
    "import geocoder"
   ]
  },
  {
   "cell_type": "code",
   "execution_count": 4,
   "outputs": [],
   "source": [
    "import tweepy\n",
    "import os\n",
    "import json\n",
    "import sys\n",
    "import geocoder\n",
    "\n",
    "# Twitter API credentials, add your credential here\n",
    "consumer_key = '4geNeWdhZ7dbQaAnEKEP4c6Hj'\n",
    "consumer_secret = 'WXzypxE5mQPTw2mMpBKctHIfIzewwzXQSMP9bNuyOQhfO21drC'\n",
    "access_token = '61135779-avJSq5sC9LXoOritvfac3ofLUAftWoRjewA4CwLJI'\n",
    "access_token_secret = 'wSYZu6HjbZ8YnupsGf5Hg17RArKMYK1tqSeDpEmmGJVbJ'\n",
    "\n",
    "# Authorization and Authentication\n",
    "auth = tweepy.OAuthHandler(consumer_key, consumer_secret)\n",
    "auth.set_access_token(access_token, access_token_secret)\n",
    "api = tweepy.API(auth)"
   ],
   "metadata": {
    "collapsed": false
   }
  },
  {
   "cell_type": "code",
   "execution_count": 7,
   "outputs": [],
   "source": [
    "if __name__ == \"__main__\":\n",
    "    # Available Locations\n",
    "    available_loc = api.available_trends()\n",
    "    # writing a JSON file that has the available trends around the world\n",
    "    with open(\"available_locs_for_trend.json\",\"w\") as wp:\n",
    "        wp.write(json.dumps(available_loc, indent=1))\n",
    "\n",
    "    # Trends for Specific Country\n",
    "    loc = sys.argv[1]     # location as argument variable\n",
    "    g = geocoder.osm(loc) # getting object that has location's latitude and longitude\n",
    "\n",
    "    closest_loc = api.closest_trends(g.lat, g.lng)\n",
    "    trends = api.get_place_trends(closest_loc[0]['woeid'])\n",
    "    # writing a JSON file that has the latest trends for that location\n",
    "    with open(\"twitter_{}_trend.json\".format(loc),\"w\") as wp:\n",
    "        wp.write(json.dumps(trends, indent=1))"
   ],
   "metadata": {
    "collapsed": false
   }
  },
  {
   "cell_type": "code",
   "execution_count": 9,
   "outputs": [],
   "source": [
    "import pandas as pd\n",
    "\n",
    "df = pd.read_json('available_locs_for_trend.json')\n",
    "\n",
    "#print(df.to_string())"
   ],
   "metadata": {
    "collapsed": false
   }
  },
  {
   "cell_type": "code",
   "execution_count": 13,
   "outputs": [
    {
     "data": {
      "text/plain": "        name                          placeType  \\\n0  Worldwide  {'code': 19, 'name': 'Supername'}   \n1   Winnipeg        {'code': 7, 'name': 'Town'}   \n2     Ottawa        {'code': 7, 'name': 'Town'}   \n3     Quebec        {'code': 7, 'name': 'Town'}   \n4   Montreal        {'code': 7, 'name': 'Town'}   \n\n                                        url  parentid country  woeid  \\\n0     http://where.yahooapis.com/v1/place/1         0              1   \n1  http://where.yahooapis.com/v1/place/2972  23424775  Canada   2972   \n2  http://where.yahooapis.com/v1/place/3369  23424775  Canada   3369   \n3  http://where.yahooapis.com/v1/place/3444  23424775  Canada   3444   \n4  http://where.yahooapis.com/v1/place/3534  23424775  Canada   3534   \n\n  countryCode  \n0        None  \n1          CA  \n2          CA  \n3          CA  \n4          CA  ",
      "text/html": "<div>\n<style scoped>\n    .dataframe tbody tr th:only-of-type {\n        vertical-align: middle;\n    }\n\n    .dataframe tbody tr th {\n        vertical-align: top;\n    }\n\n    .dataframe thead th {\n        text-align: right;\n    }\n</style>\n<table border=\"1\" class=\"dataframe\">\n  <thead>\n    <tr style=\"text-align: right;\">\n      <th></th>\n      <th>name</th>\n      <th>placeType</th>\n      <th>url</th>\n      <th>parentid</th>\n      <th>country</th>\n      <th>woeid</th>\n      <th>countryCode</th>\n    </tr>\n  </thead>\n  <tbody>\n    <tr>\n      <th>0</th>\n      <td>Worldwide</td>\n      <td>{'code': 19, 'name': 'Supername'}</td>\n      <td>http://where.yahooapis.com/v1/place/1</td>\n      <td>0</td>\n      <td></td>\n      <td>1</td>\n      <td>None</td>\n    </tr>\n    <tr>\n      <th>1</th>\n      <td>Winnipeg</td>\n      <td>{'code': 7, 'name': 'Town'}</td>\n      <td>http://where.yahooapis.com/v1/place/2972</td>\n      <td>23424775</td>\n      <td>Canada</td>\n      <td>2972</td>\n      <td>CA</td>\n    </tr>\n    <tr>\n      <th>2</th>\n      <td>Ottawa</td>\n      <td>{'code': 7, 'name': 'Town'}</td>\n      <td>http://where.yahooapis.com/v1/place/3369</td>\n      <td>23424775</td>\n      <td>Canada</td>\n      <td>3369</td>\n      <td>CA</td>\n    </tr>\n    <tr>\n      <th>3</th>\n      <td>Quebec</td>\n      <td>{'code': 7, 'name': 'Town'}</td>\n      <td>http://where.yahooapis.com/v1/place/3444</td>\n      <td>23424775</td>\n      <td>Canada</td>\n      <td>3444</td>\n      <td>CA</td>\n    </tr>\n    <tr>\n      <th>4</th>\n      <td>Montreal</td>\n      <td>{'code': 7, 'name': 'Town'}</td>\n      <td>http://where.yahooapis.com/v1/place/3534</td>\n      <td>23424775</td>\n      <td>Canada</td>\n      <td>3534</td>\n      <td>CA</td>\n    </tr>\n  </tbody>\n</table>\n</div>"
     },
     "execution_count": 13,
     "metadata": {},
     "output_type": "execute_result"
    }
   ],
   "source": [
    "df.head(5)"
   ],
   "metadata": {
    "collapsed": false
   }
  },
  {
   "cell_type": "code",
   "execution_count": 14,
   "outputs": [
    {
     "name": "stdout",
     "output_type": "stream",
     "text": [
      "The top trends for the location are :\n",
      "#PoliticsLive\n",
      "Shopping Spree\n",
      "#TongueOutTuesday\n",
      "#journorequest\n",
      "Happy 90th\n",
      "Credit Suisse\n",
      "Chancellor\n",
      "Hugh Grant\n",
      "Daily Quordle 414\n",
      "Caroline\n",
      "jungkook\n",
      "Simon Cowell\n",
      "Eleanor Williams\n",
      "Jake Berry\n",
      "Bangladesh\n",
      "Constitution Hill\n",
      "Steve Clarke\n",
      "Shankland\n",
      "Penny Farthing\n",
      "Captain Birdseye\n",
      "Michael Caine\n",
      "Marina\n",
      "Budget\n",
      "Simon Jordan\n",
      "Illegal Migration Bill\n",
      "Scott Benton\n",
      "Butter\n",
      "1000 GLUE STICKS\n",
      "Mother's Day\n",
      "Baroness Masham\n",
      "Facile Vega\n",
      "Silverstone\n",
      "Theresa May\n",
      "Hundreds\n",
      "Drew\n",
      "Il Etait Temps\n",
      "Ed Balls\n",
      "Bet365\n",
      "joon\n",
      "Marine Nationale\n",
      "Tunnocks\n",
      "Refugees\n",
      "State Man\n",
      "Hazard\n",
      "El Fabiolo\n",
      "Peston\n",
      "Jaffa\n",
      "AUKUS\n"
     ]
    }
   ],
   "source": [
    "# authorization of consumer key and consumer secret\n",
    "auth = tweepy.OAuthHandler(consumer_key, consumer_secret)\n",
    "\n",
    "# set access to user's access key and access secret\n",
    "auth.set_access_token(access_token, access_token_secret)\n",
    "\n",
    "# calling the api\n",
    "api = tweepy.API(auth)\n",
    "\n",
    "# WOEID of London\n",
    "woeid = 44418\n",
    "\n",
    "# fetching the trends\n",
    "trends = api.get_place_trends(id = woeid)\n",
    "\n",
    "# printing the information\n",
    "print(\"The top trends for the location are :\")\n",
    "\n",
    "for value in trends:\n",
    "    for trend in value['trends']:\n",
    "        print(trend['name'])"
   ],
   "metadata": {
    "collapsed": false
   }
  },
  {
   "cell_type": "code",
   "execution_count": 15,
   "outputs": [],
   "source": [
    "from tweepy import OAuthHandler\n",
    "from tweepy import API\n",
    "\n",
    "# Consumer key authentication(consumer_key,consumer_secret can be collected from our twitter developer profile)\n",
    "auth = OAuthHandler(consumer_key, consumer_secret)\n",
    "\n",
    "# Access key authentication(access_token,access_token_secret can be collected from our twitter developer profile)\n",
    "auth.set_access_token(access_token, access_token_secret)\n",
    "\n",
    "# Set up the API with the authentication handler\n",
    "api = API(auth)"
   ],
   "metadata": {
    "collapsed": false
   }
  },
  {
   "cell_type": "code",
   "execution_count": 20,
   "outputs": [
    {
     "ename": "NameError",
     "evalue": "name 'SListener' is not defined",
     "output_type": "error",
     "traceback": [
      "\u001B[1;31m---------------------------------------------------------------------------\u001B[0m",
      "\u001B[1;31mNameError\u001B[0m                                 Traceback (most recent call last)",
      "Cell \u001B[1;32mIn[20], line 8\u001B[0m\n\u001B[0;32m      5\u001B[0m keywords_to_track \u001B[38;5;241m=\u001B[39m [\u001B[38;5;124m'\u001B[39m\u001B[38;5;124m#javascript\u001B[39m\u001B[38;5;124m'\u001B[39m,\u001B[38;5;124m'\u001B[39m\u001B[38;5;124m#python\u001B[39m\u001B[38;5;124m'\u001B[39m]\n\u001B[0;32m      7\u001B[0m \u001B[38;5;66;03m# Instantiate the SListener object\u001B[39;00m\n\u001B[1;32m----> 8\u001B[0m listen \u001B[38;5;241m=\u001B[39m \u001B[43mSListener\u001B[49m(api)\n\u001B[0;32m     10\u001B[0m \u001B[38;5;66;03m# Instantiate the Stream object\u001B[39;00m\n\u001B[0;32m     11\u001B[0m stream \u001B[38;5;241m=\u001B[39m Stream(auth, listen)\n",
      "\u001B[1;31mNameError\u001B[0m: name 'SListener' is not defined"
     ]
    }
   ],
   "source": [
    "from tweepy import Stream\n",
    "\n",
    "\n",
    "# Set up words to track\n",
    "keywords_to_track = ['#javascript','#python']\n",
    "\n",
    "# Instantiate the SListener object\n",
    "listen = SListener(api)\n",
    "\n",
    "# Instantiate the Stream object\n",
    "stream = Stream(auth, listen)\n",
    "\n",
    "# Begin collecting data\n",
    "stream.filter(track = keywords_to_track)"
   ],
   "metadata": {
    "collapsed": false
   }
  },
  {
   "cell_type": "code",
   "execution_count": null,
   "outputs": [],
   "source": [
    "tweets = []\n",
    "files  = list(glob.iglob('/content/tweets.json'))\n",
    "for f in files:\n",
    "    fh = open(f, 'r', encoding = 'utf-8')\n",
    "    tweets_json = fh.read().split(\"\\n\")\n",
    "\n",
    "    ## remove empty lines\n",
    "    tweets_json = list(filter(len, tweets_json))\n",
    "\n",
    "    ## parse each tweet\n",
    "    for tweet in tweets_json:\n",
    "        tweet_obj = json.loads(tweet)\n",
    "\n",
    "        # Store the user screen name in 'user-screen_name'\n",
    "        tweet_obj['user-screen_name'] = tweet_obj['user']['screen_name']\n",
    "\n",
    "        # Check if this is a 140+ character tweet\n",
    "        if 'extended_tweet' in tweet_obj:\n",
    "            # Store the extended tweet text in 'extended_tweet-full_text'\n",
    "            tweet_obj['extended_tweet-full_text'] = tweet_obj['extended_tweet']['full_text']\n",
    "\n",
    "        if 'retweeted_status' in tweet_obj:\n",
    "            # Store the retweet user screen name in 'retweeted_status-user-screen_name'\n",
    "            tweet_obj['retweeted_status-user-screen_name'] = tweet_obj['retweeted_status']['user']['screen_name']\n",
    "\n",
    "            # Store the retweet text in 'retweeted_status-text'\n",
    "            tweet_obj['retweeted_status-text'] = tweet_obj['retweeted_status']['text']\n",
    "\n",
    "        if 'quoted_status' in tweet_obj:\n",
    "            # Store the retweet user screen name in 'retweeted_status-user-screen_name'\n",
    "            tweet_obj['quoted_status-user-screen_name'] = tweet_obj['quoted_status']['user']['screen_name']\n",
    "\n",
    "            # Store the retweet text in 'retweeted_status-text'\n",
    "            tweet_obj['quoted_status-text'] = tweet_obj['quoted_status']['text']\n",
    "\n",
    "        tweets.append(tweet_obj)"
   ],
   "metadata": {
    "collapsed": false
   }
  }
 ],
 "metadata": {
  "kernelspec": {
   "display_name": "Python 3",
   "language": "python",
   "name": "python3"
  },
  "language_info": {
   "codemirror_mode": {
    "name": "ipython",
    "version": 2
   },
   "file_extension": ".py",
   "mimetype": "text/x-python",
   "name": "python",
   "nbconvert_exporter": "python",
   "pygments_lexer": "ipython2",
   "version": "2.7.6"
  }
 },
 "nbformat": 4,
 "nbformat_minor": 0
}

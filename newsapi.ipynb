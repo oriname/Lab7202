{
 "cells": [
  {
   "cell_type": "code",
   "execution_count": 11,
   "metadata": {
    "collapsed": true
   },
   "outputs": [],
   "source": [
    "import pprint\n",
    "import requests     # 2.19.1"
   ]
  },
  {
   "cell_type": "code",
   "execution_count": 12,
   "outputs": [],
   "source": [
    "secret = '1a56c7bb9aca4a49a1f35dbe0cf8664a'"
   ],
   "metadata": {
    "collapsed": false
   }
  },
  {
   "cell_type": "code",
   "execution_count": 13,
   "outputs": [],
   "source": [
    "# Define the endpoint\n",
    "url = 'https://newsapi.org/v2/everything?'"
   ],
   "metadata": {
    "collapsed": false
   }
  },
  {
   "cell_type": "code",
   "execution_count": 14,
   "outputs": [],
   "source": [
    "# Specify the query and number of returns\n",
    "parameters = {\n",
    "    'q': 'big data', # query phrase\n",
    "    'pageSize': 20,  # maximum is 100\n",
    "    'apiKey': secret # your own API key\n",
    "}"
   ],
   "metadata": {
    "collapsed": false
   }
  },
  {
   "cell_type": "code",
   "execution_count": 15,
   "outputs": [
    {
     "name": "stdout",
     "output_type": "stream",
     "text": [
      "{'articles': [{'author': 'Morgan Meaker',\n",
      "               'publishedAt': '2023-02-17T12:00:00Z',\n",
      "               'source': {'Id': 'wired', 'Name': 'Wired'},\n",
      "               'title': 'Germany Raises Red Flags About Palantir’s Big Data '\n",
      "                        'Dragnet',\n",
      "               'url': 'https://www.wired.com/story/palantir-germany-gotham-dragnet/'},\n",
      "              {'author': 'Jon Fingas',\n",
      "               'publishedAt': '2023-03-09T22:20:57Z',\n",
      "               'source': {'Id': 'engadget', 'Name': 'Engadget'},\n",
      "               'title': 'Senators reintroduce bill to protect personal data '\n",
      "                        'online',\n",
      "               'url': 'https://www.engadget.com/senators-reintroduce-bill-to-protect-personal-data-online-222057399.html'},\n",
      "              {'author': 'Khari Johnson',\n",
      "               'publishedAt': '2023-02-16T12:00:00Z',\n",
      "               'source': {'Id': 'wired', 'Name': 'Wired'},\n",
      "               'title': 'AI Chatbots Got Big—and Their Ethical Red Flags Got '\n",
      "                        'Bigger',\n",
      "               'url': 'https://www.wired.com/story/chatbots-got-big-and-their-ethical-red-flags-got-bigger/'},\n",
      "              {'author': 'Mack DeGeurin',\n",
      "               'publishedAt': '2023-03-06T22:21:15Z',\n",
      "               'source': {'Id': None, 'Name': 'Gizmodo.com'},\n",
      "               'title': 'The Top Antitrust Cop Says Big Tech Looks a Lot Like '\n",
      "                        'Standard Oil',\n",
      "               'url': 'https://gizmodo.com/google-standard-oil-big-tech-antitrust-justice-dept-1850194553'},\n",
      "              {'author': 'abitter@businessinsider.com (Alex Bitter)',\n",
      "               'publishedAt': '2023-02-21T16:03:51Z',\n",
      "               'source': {'Id': 'business-insider', 'Name': 'Business Insider'},\n",
      "               'title': \"Kroger knows every purchase you've ever made – and \"\n",
      "                        'says it could make millions of dollars selling your '\n",
      "                        'data',\n",
      "               'url': 'https://www.businessinsider.com/kroger-plans-1-billion-by-selling-your-grocery-data-2023-2'},\n",
      "              {'author': 'Kyle Barr',\n",
      "               'publishedAt': '2023-03-01T21:40:00Z',\n",
      "               'source': {'Id': None, 'Name': 'Gizmodo.com'},\n",
      "               'title': \"OpenAI Says It Won't Steal Data From Those Who Use \"\n",
      "                        'Its New API to Train ChatGPT',\n",
      "               'url': 'https://gizmodo.com/open-ai-chatgpt-api-bing-google-ai-1850174901'},\n",
      "              {'author': None,\n",
      "               'publishedAt': '2023-03-09T16:05:00Z',\n",
      "               'source': {'Id': 'google-news', 'Name': 'Google News'},\n",
      "               'title': \"Greece's Eurobank posts big jump in 2022 profit - \"\n",
      "                        'Reuters',\n",
      "               'url': 'https://consent.google.com/ml?continue=https://news.google.com/rss/articles/CBMiXmh0dHBzOi8vd3d3LnJldXRlcnMuY29tL21hcmtldHMvZXVyb3BlL2dyZWVjZXMtZXVyb2JhbmstcG9zdHMtYmlnLWp1bXAtMjAyMi1wcm9maXQtMjAyMy0wMy0wOS_SAQA?oc%3D5&gl=FR&hl=en-US&cm=2&pc=n&src=1'},\n",
      "              {'author': None,\n",
      "               'publishedAt': '2023-03-09T22:15:00Z',\n",
      "               'source': {'Id': 'google-news', 'Name': 'Google News'},\n",
      "               'title': 'Man United hit back with big win over Betis - '\n",
      "                        'Reuters.com',\n",
      "               'url': 'https://consent.google.com/ml?continue=https://news.google.com/rss/articles/CBMiYGh0dHBzOi8vd3d3LnJldXRlcnMuY29tL2xpZmVzdHlsZS9zcG9ydHMvbWFuLXVuaXRlZC1oaXQtYmFjay13aXRoLWJpZy13aW4tb3Zlci1iZXRpcy0yMDIzLTAzLTA5L9IBAA?oc%3D5&gl=FR&hl=en-US&cm=2&pc=n&src=1'},\n",
      "              {'author': None,\n",
      "               'publishedAt': '2023-02-25T17:27:00Z',\n",
      "               'source': {'Id': 'google-news', 'Name': 'Google News'},\n",
      "               'title': 'Ings double powers West Ham to big win over Forest - '\n",
      "                        'Reuters',\n",
      "               'url': 'https://consent.google.com/ml?continue=https://news.google.com/rss/articles/CBMiZGh0dHBzOi8vd3d3LnJldXRlcnMuY29tL2xpZmVzdHlsZS9zcG9ydHMvaW5ncy1kb3VibGUtcG93ZXJzLXdlc3QtaGFtLWJpZy13aW4tb3Zlci1mb3Jlc3QtMjAyMy0wMi0yNS_SAQA?oc%3D5%26hl%3Den-CA%26gl%3DCA%26ceid%3DCA:en&gl=FR&hl=en-CA&pc=n&src=1'},\n",
      "              {'author': None,\n",
      "               'publishedAt': '2023-02-24T09:01:00Z',\n",
      "               'source': {'Id': 'google-news', 'Name': 'Google News'},\n",
      "               'title': 'ECB could still need big rate hike beyond March, '\n",
      "                        'Nagel says - Reuters',\n",
      "               'url': 'https://consent.google.com/ml?continue=https://news.google.com/rss/articles/CBMibWh0dHBzOi8vd3d3LnJldXRlcnMuY29tL21hcmtldHMvZXVyb3BlL2VjYi1jb3VsZC1zdGlsbC1uZWVkLWJpZy1yYXRlLWhpa2UtYmV5b25kLW1hcmNoLW5hZ2VsLXNheXMtMjAyMy0wMi0yNC_SAQA?oc%3D5%26hl%3Den-CA%26gl%3DCA%26ceid%3DCA:en&gl=FR&hl=en-CA&pc=n&src=1'},\n",
      "              {'author': None,\n",
      "               'publishedAt': '2023-02-26T04:56:00Z',\n",
      "               'source': {'Id': 'google-news', 'Name': 'Google News'},\n",
      "               'title': 'Krejcikova eyes return to singles big-league after '\n",
      "                        'Dubai win - Reuters.com',\n",
      "               'url': 'https://consent.google.com/ml?continue=https://news.google.com/rss/articles/CBMibmh0dHBzOi8vd3d3LnJldXRlcnMuY29tL2xpZmVzdHlsZS9zcG9ydHMva3JlamNpa292YS1leWVzLXJldHVybi1zaW5nbGVzLWJpZy1sZWFndWUtYWZ0ZXItZHViYWktd2luLTIwMjMtMDItMjYv0gEA?oc%3D5&gl=FR&hl=en-US&pc=n&src=1'},\n",
      "              {'author': None,\n",
      "               'publishedAt': '2023-03-02T22:35:00Z',\n",
      "               'source': {'Id': 'google-news', 'Name': 'Google News'},\n",
      "               'title': 'Big Oil to take centerstage at Houston meet as '\n",
      "                        'markets, alliances shift - Reuters',\n",
      "               'url': 'https://consent.google.com/ml?continue=https://news.google.com/rss/articles/CBMicWh0dHBzOi8vd3d3LnJldXRlcnMuY29tL2J1c2luZXNzL2VuZXJneS9iaWctb2lsLXRha2UtY2VudGVyc3RhZ2UtaG91c3Rvbi1tZWV0LW1hcmtldHMtYWxsaWFuY2VzLXNoaWZ0LTIwMjMtMDMtMDIv0gEA?oc%3D5&gl=FR&hl=en-US&pc=n&src=1'},\n",
      "              {'author': None,\n",
      "               'publishedAt': '2023-03-02T23:47:00Z',\n",
      "               'source': {'Id': 'google-news', 'Name': 'Google News'},\n",
      "               'title': 'US says military personnel suing big banks should not '\n",
      "                        'be forced to ... - Reuters',\n",
      "               'url': 'https://consent.google.com/ml?continue=https://news.google.com/rss/articles/CBMic2h0dHBzOi8vd3d3LnJldXRlcnMuY29tL2xlZ2FsL3VzLXNheXMtbWlsaXRhcnktcGVyc29ubmVsLXN1aW5nLWJpZy1iYW5rcy1zaG91bGQtbm90LWJlLWZvcmNlZC1hcmJpdHJhdGUtMjAyMy0wMy0wMi_SAQA?oc%3D5&gl=FR&hl=en-US&pc=n&src=1'},\n",
      "              {'author': None,\n",
      "               'publishedAt': '2023-03-08T22:12:00Z',\n",
      "               'source': {'Id': 'google-news', 'Name': 'Google News'},\n",
      "               'title': 'CERAWEEK-Big Oil on hydrogen: forget the rainbow, '\n",
      "                        'just make it ... - Reuters',\n",
      "               'url': 'https://consent.google.com/ml?continue=https://news.google.com/rss/articles/CBMidGh0dHBzOi8vd3d3LnJldXRlcnMuY29tL2J1c2luZXNzL2VuZXJneS9jZXJhd2Vlay1iaWctb2lsLWh5ZHJvZ2VuLWZvcmdldC1yYWluYm93LWp1c3QtbWFrZS1pdC1wcm9maXRhYmxlLTIwMjMtMDMtMDgv0gEA?oc%3D5&gl=FR&hl=en-US&pc=n&src=1'},\n",
      "              {'author': None,\n",
      "               'publishedAt': '2023-03-10T13:35:00Z',\n",
      "               'source': {'Id': 'google-news', 'Name': 'Google News'},\n",
      "               'title': 'Breakingviews - Big bank selloff rests on tiny kernel '\n",
      "                        'of truth - Reuters',\n",
      "               'url': 'https://consent.google.com/ml?continue=https://news.google.com/rss/articles/CBMiWmh0dHBzOi8vd3d3LnJldXRlcnMuY29tL2JyZWFraW5ndmlld3MvYmlnLWJhbmstc2VsbG9mZi1yZXN0cy10aW55LWtlcm5lbC10cnV0aC0yMDIzLTAzLTEwL9IBAA?oc%3D5&gl=FR&hl=en-US&cm=2&pc=n&src=1'},\n",
      "              {'author': None,\n",
      "               'publishedAt': '2023-03-11T05:21:00Z',\n",
      "               'source': {'Id': 'google-news', 'Name': 'Google News'},\n",
      "               'title': \"South Australia to be 'big beneficiary' of AUKUS: \"\n",
      "                        'Australian PM - Reuters.com',\n",
      "               'url': 'https://consent.google.com/ml?continue=https://news.google.com/rss/articles/CBMibWh0dHBzOi8vd3d3LnJldXRlcnMuY29tL3dvcmxkL2FzaWEtcGFjaWZpYy9zb3V0aC1hdXN0cmFsaWEtYmUtYmlnLWJlbmVmaWNpYXJ5LWF1a3VzLWF1c3RyYWxpYW4tcG0tMjAyMy0wMy0xMS_SAQA?oc%3D5&gl=FR&hl=en-US&cm=2&pc=n&src=1'},\n",
      "              {'author': None,\n",
      "               'publishedAt': '2023-03-02T14:06:00Z',\n",
      "               'source': {'Id': 'google-news', 'Name': 'Google News'},\n",
      "               'title': 'In big power producer Norway, plans for greener '\n",
      "                        'industry meet ... - Reuters',\n",
      "               'url': 'https://consent.google.com/ml?continue=https://news.google.com/rss/articles/CBMiggFodHRwczovL3d3dy5yZXV0ZXJzLmNvbS9idXNpbmVzcy9zdXN0YWluYWJsZS1idXNpbmVzcy9iaWctcG93ZXItcHJvZHVjZXItbm9yd2F5LXBsYW5zLWdyZWVuZXItaW5kdXN0cnktbWVldC1yZXNpc3RhbmNlLTIwMjMtMDMtMDIv0gEA?oc%3D5&gl=FR&hl=en-US&pc=n&src=1'},\n",
      "              {'author': None,\n",
      "               'publishedAt': '2023-03-06T17:27:00Z',\n",
      "               'source': {'Id': 'google-news', 'Name': 'Google News'},\n",
      "               'title': \"CERAWEEK - UAE's Jaber urges Big Oil to tackle \"\n",
      "                        'climate challenges - Reuters',\n",
      "               'url': 'https://consent.google.com/ml?continue=https://news.google.com/rss/articles/CBMib2h0dHBzOi8vd3d3LnJldXRlcnMuY29tL2J1c2luZXNzL2VuZXJneS9jZXJhd2Vlay11YWVzLWphYmVyLXVyZ2VzLWJpZy1vaWwtdGFja2xlLWNsaW1hdGUtY2hhbGxlbmdlcy0yMDIzLTAzLTA2L9IBAA?oc%3D5&gl=FR&hl=en-US&pc=n&src=1'},\n",
      "              {'author': None,\n",
      "               'publishedAt': '2023-03-13T14:39:00Z',\n",
      "               'source': {'Id': 'google-news', 'Name': 'Google News'},\n",
      "               'title': 'Studio A24 captures Oscar spotlight with big wins for '\n",
      "                        'best picture ... - Reuters',\n",
      "               'url': 'https://consent.google.com/ml?continue=https://news.google.com/rss/articles/CBMic2h0dHBzOi8vd3d3LnJldXRlcnMuY29tL2xpZmVzdHlsZS9zdHVkaW8tYTI0LWNhcHR1cmVzLW9zY2FyLXNwb3RsaWdodC13aXRoLWJpZy13aW5zLWJlc3QtcGljdHVyZS1hY3RpbmctMjAyMy0wMy0xMy_SAQA?oc%3D5&gl=FR&hl=en-US&cm=2&pc=n&src=1'},\n",
      "              {'author': None,\n",
      "               'publishedAt': '2023-03-13T00:01:00Z',\n",
      "               'source': {'Id': 'google-news', 'Name': 'Google News'},\n",
      "               'title': 'Top 25 roundup: Purdue escapes Penn State for Big Ten '\n",
      "                        'title - Reuters',\n",
      "               'url': 'https://consent.google.com/ml?continue=https://news.google.com/rss/articles/CBMia2h0dHBzOi8vd3d3LnJldXRlcnMuY29tL2xpZmVzdHlsZS9zcG9ydHMvdG9wLTI1LXJvdW5kdXAtcHVyZHVlLWVzY2FwZXMtcGVubi1zdGF0ZS1iaWctdGVuLXRpdGxlLTIwMjMtMDMtMTMv0gEA?oc%3D5&gl=FR&hl=en-US&cm=2&pc=n&src=1'}],\n",
      " 'status': 'ok',\n",
      " 'totalResults': 0}\n"
     ]
    }
   ],
   "source": [
    "# Make the request\n",
    "response = requests.get(url, params=parameters)\n",
    "\n",
    "# Convert the response to JSON format and pretty print it\n",
    "response_json = response.json()\n",
    "pprint.pprint(response_json)"
   ],
   "metadata": {
    "collapsed": false
   }
  },
  {
   "cell_type": "code",
   "execution_count": 16,
   "outputs": [
    {
     "ename": "KeyError",
     "evalue": "'content'",
     "output_type": "error",
     "traceback": [
      "\u001B[1;31m---------------------------------------------------------------------------\u001B[0m",
      "\u001B[1;31mKeyError\u001B[0m                                  Traceback (most recent call last)",
      "Cell \u001B[1;32mIn[16], line 2\u001B[0m\n\u001B[0;32m      1\u001B[0m \u001B[38;5;28;01mfor\u001B[39;00m i \u001B[38;5;129;01min\u001B[39;00m response_json[\u001B[38;5;124m'\u001B[39m\u001B[38;5;124marticles\u001B[39m\u001B[38;5;124m'\u001B[39m]:\n\u001B[1;32m----> 2\u001B[0m     \u001B[38;5;28mprint\u001B[39m(\u001B[43mi\u001B[49m\u001B[43m[\u001B[49m\u001B[38;5;124;43m'\u001B[39;49m\u001B[38;5;124;43mcontent\u001B[39;49m\u001B[38;5;124;43m'\u001B[39;49m\u001B[43m]\u001B[49m)\n",
      "\u001B[1;31mKeyError\u001B[0m: 'content'"
     ]
    }
   ],
   "source": [
    "for i in response_json['articles']:\n",
    "    print(i['content'])"
   ],
   "metadata": {
    "collapsed": false
   }
  }
 ],
 "metadata": {
  "kernelspec": {
   "display_name": "Python 3",
   "language": "python",
   "name": "python3"
  },
  "language_info": {
   "codemirror_mode": {
    "name": "ipython",
    "version": 2
   },
   "file_extension": ".py",
   "mimetype": "text/x-python",
   "name": "python",
   "nbconvert_exporter": "python",
   "pygments_lexer": "ipython2",
   "version": "2.7.6"
  }
 },
 "nbformat": 4,
 "nbformat_minor": 0
}

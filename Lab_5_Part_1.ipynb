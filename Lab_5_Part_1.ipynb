{
  "nbformat": 4,
  "nbformat_minor": 0,
  "metadata": {
    "colab": {
      "provenance": []
    },
    "kernelspec": {
      "name": "python3",
      "display_name": "Python 3"
    },
    "language_info": {
      "name": "python"
    }
  },
  "cells": [
    {
      "cell_type": "code",
      "execution_count": null,
      "metadata": {
        "id": "1qhSBgHS9wuc"
      },
      "outputs": [],
      "source": [
        "!pip install networks"
      ]
    },
    {
      "cell_type": "code",
      "source": [
        "import networkx as nx\n",
        "g=nx.Graph()\n",
        "g.add_edge(\"a\",\"b\", weight=0.1)\n",
        "g.add_edge(\"b\",\"c\", weight=1.5)\n",
        "g.add_edge(\"a\",\"c\", weight=1.0)\n",
        "g.add_edge(\"c\",\"d\", weight=2.2)\n",
        "print(nx.shortest_path(g,\"b\",\"d\"))\n",
        "print(nx.shortest_path(g,\"b\",\"d\",weight=\"weight\"))\n",
        "nx.draw_networkx(g)"
      ],
      "metadata": {
        "id": "-gdyEoWy-FM8"
      },
      "execution_count": null,
      "outputs": []
    },
    {
      "cell_type": "code",
      "source": [
        "DirectG=nx.DiGraph()\n",
        "DirectG.add_edge('1',\"2\")\n",
        "DirectG.add_edge('3','2')\n",
        "DirectG.add_edge('1','3')\n",
        "DirectG.add_edge('3','1')\n",
        "DirectG.add_edge('1','4')\n",
        "DirectG.add_edge('4','1')\n",
        "DirectG.add_edge('2','4')\n",
        "\n",
        "nx.draw_networkx(DirectG)"
      ],
      "metadata": {
        "id": "L6alAXM0AZ3g"
      },
      "execution_count": null,
      "outputs": []
    },
    {
      "cell_type": "code",
      "source": [
        "print(\"The list of all nodes\",list(DirectG.nodes))\n",
        "print(\"The list of all edges\",list(DirectG.edges))\n",
        "print(\"Neighbors of Node 1\",list(DirectG.adj['1']))\n",
        "print(\"The degree of Node 1\",DirectG.degree['1'])\n"
      ],
      "metadata": {
        "id": "9qcctATdBwgo"
      },
      "execution_count": null,
      "outputs": []
    },
    {
      "cell_type": "code",
      "source": [
        "import matplotlib.pyplot as plt\n",
        "WeightedG=nx.Graph()\n",
        "WeightedG.add_edge('Conventry','Dudley',weight=33)\n",
        "WeightedG.add_edge('Birmingham','Wolverhampton',weight=17)\n",
        "WeightedG.add_edge('Birmingham','Conventry',weight=22)\n",
        "WeightedG.add_edge('Wolverhampton','Dudley',weight=6)\n",
        "WeightedG.add_edge('Birmingham','Dudley',weight=9)\n",
        "WeightedG.add_edge('Conventry','Wolverhampton',weight=34)\n"
      ],
      "metadata": {
        "id": "MhJD-s-TC0fV"
      },
      "execution_count": null,
      "outputs": []
    },
    {
      "cell_type": "code",
      "source": [
        "pos = nx.spring_layout(WeightedG, iterations=50)\n",
        "nx.draw_networkx_edges(WeightedG, pos, alpha=0.2)\n",
        "nx.draw_networkx_nodes(WeightedG, pos,node_color='r', alpha=0.3)\n",
        "nx.draw_networkx_labels(WeightedG, pos, alpha=0.8)\n",
        "nx.draw_networkx_edge_labels(WeightedG,pos,edge_labels=nx.get_edge_attributes(WeightedG,'weight'))\n",
        "#nx.draw_graphviz(G)\n",
        "plt.show()"
      ],
      "metadata": {
        "id": "LLKjqlHPEGf6"
      },
      "execution_count": null,
      "outputs": []
    },
    {
      "cell_type": "code",
      "source": [
        "print(nx.shortest_path(WeightedG,\"Wolverhampton\",\"Conventry\"))\n",
        "print(nx.shortest_path_length(WeightedG,\"Wolverhampton\",\"Conventry\"))\n",
        "nx.eccentricity(WeightedG,'Birmingham') "
      ],
      "metadata": {
        "id": "npEOuZeZF_8d"
      },
      "execution_count": null,
      "outputs": []
    },
    {
      "cell_type": "code",
      "source": [],
      "metadata": {
        "id": "yE4I2BwvF9Z4"
      },
      "execution_count": null,
      "outputs": []
    }
  ]
}